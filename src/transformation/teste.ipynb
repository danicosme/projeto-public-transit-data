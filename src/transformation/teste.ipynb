{
 "cells": [
  {
   "cell_type": "code",
   "execution_count": 7,
   "metadata": {},
   "outputs": [],
   "source": [
    "import boto3\n",
    "import duckdb\n",
    "import zipfile\n",
    "import io"
   ]
  },
  {
   "cell_type": "code",
   "execution_count": 8,
   "metadata": {},
   "outputs": [],
   "source": [
    "s3 = boto3.client('s3')\n",
    "\n",
    "response = s3.get_object(\n",
    "    Bucket='public-transit-data-raw',\n",
    "    Key='2025-03-30/sp_trans_data_11_13_41.zip'\n",
    ")['Body'].read()\n",
    "\n"
   ]
  },
  {
   "cell_type": "code",
   "execution_count": 9,
   "metadata": {},
   "outputs": [
    {
     "name": "stdout",
     "output_type": "stream",
     "text": [
      "['agency.txt', 'calendar.txt', 'fare_attributes.txt', 'fare_rules.txt', 'frequencies.txt', 'routes.txt', 'shapes.txt', 'stops.txt', 'stop_times.txt', 'trips.txt']\n"
     ]
    }
   ],
   "source": [
    "with zipfile.ZipFile(io.BytesIO(response), \"r\") as file:\n",
    "    print(file.namelist())"
   ]
  },
  {
   "cell_type": "code",
   "execution_count": 10,
   "metadata": {},
   "outputs": [],
   "source": [
    "FILE_NAME_MAPPING = {\n",
    "    \"agency.txt\": \"agencias\",\n",
    "    \"calendar.txt\": \"calendario_servico\",\n",
    "    \"fare_attributes.txt\": \"tarifas_atributos\",\n",
    "    \"fare_rules.txt\": \"regras_tarifarias\",\n",
    "    \"frequencies.txt\": \"frequencias_veiculos\",\n",
    "    \"routes.txt\": \"rotas\",\n",
    "    \"shapes.txt\": \"trajetos_geograficos\",\n",
    "    \"stops.txt\": \"pontos_parada\",\n",
    "    \"stop_times.txt\": \"horarios_paradas\",\n",
    "    \"trips.txt\": \"viagens\"\n",
    "}"
   ]
  },
  {
   "cell_type": "code",
   "execution_count": 12,
   "metadata": {},
   "outputs": [
    {
     "name": "stdout",
     "output_type": "stream",
     "text": [
      "   id_agencia nome_agencia                               url_agencia  \\\n",
      "0           1      SPTRANS  http://www.sptrans.com.br/?versao=260325   \n",
      "\n",
      "  fuso_horario_agencia idioma_agencia data_extracao  \n",
      "0    America/Sao_Paulo             pt    2025-03-30  \n"
     ]
    }
   ],
   "source": [
    "import tempfile\n",
    "import os\n",
    "\n",
    "from os.path import abspath\n",
    "\n",
    "conn = duckdb.connect()\n",
    "\n",
    "with zipfile.ZipFile(io.BytesIO(response), \"r\") as zip_file:\n",
    "        for file_name in zip_file.namelist():\n",
    "            if not file_name.endswith(\".txt\"):\n",
    "                continue\n",
    "\n",
    "            # Cria caminho temporário para salvar o .txt\n",
    "            tmp_dir = tempfile.gettempdir()\n",
    "            txt_path = os.path.join(tmp_dir, file_name)\n",
    "\n",
    "            with zip_file.open(file_name) as txt_file:\n",
    "                with open(txt_path, \"wb\") as f_out:\n",
    "                    f_out.write(txt_file.read())\n",
    "            \n",
    "            sql_path = abspath(f\"table_schema/{file_name.replace('.txt', '.sql')}\")\n",
    "\n",
    "            with open(sql_path, \"r\") as sql_file:\n",
    "                query = sql_file.read().format(txt_path=txt_path, extraction_date=\"2025-03-30\")\n",
    "\n",
    "            df = conn.execute(query).fetchdf()\n",
    "            print(df)\n",
    "\n",
    "            new_file_name = FILE_NAME_MAPPING.get(file_name, file_name.replace(\".txt\", \"\"))\n",
    "            break\n"
   ]
  }
 ],
 "metadata": {
  "kernelspec": {
   "display_name": "Python 3",
   "language": "python",
   "name": "python3"
  },
  "language_info": {
   "codemirror_mode": {
    "name": "ipython",
    "version": 3
   },
   "file_extension": ".py",
   "mimetype": "text/x-python",
   "name": "python",
   "nbconvert_exporter": "python",
   "pygments_lexer": "ipython3",
   "version": "3.11.9"
  }
 },
 "nbformat": 4,
 "nbformat_minor": 2
}
